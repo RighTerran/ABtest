{
 "cells": [
  {
   "cell_type": "code",
   "execution_count": 2,
   "id": "3cdab17e",
   "metadata": {},
   "outputs": [],
   "source": [
    "from statsmodels.stats.power import tt_ind_solve_power, zt_ind_solve_power\n",
    "from statsmodels.stats.proportion import proportion_effectsize\n",
    "from statsmodels.stats.meta_analysis import effectsize_smd\n",
    "from typing import Union"
   ]
  },
  {
   "cell_type": "code",
   "execution_count": 3,
   "id": "7f990dfd",
   "metadata": {},
   "outputs": [],
   "source": [
    "#Расчёт effect_size для пропорций\n",
    "def calc_propotion_effect_size(conv_1: int, nobs_1: int, conv_2: int, nobs_2: int):\n",
    "    prob_1, prob_2 = conv_1 / nobs_1, conv_2 / nobs_2\n",
    "    es_import = proportion_effectsize(prob_1, prob_2)\n",
    "    \n",
    "    return es_import\n",
    "\n",
    "#Расчёт effect_size для непрерывных метрик\n",
    "def calc_continuous_effect_size(mean_1: Union[float, int],\n",
    "                                std_1: Union[float, int],\n",
    "                                mean_2: Union[float, int],\n",
    "                                std_2: Union[float, int],\n",
    "                                nobs_1: int = 10_000,\n",
    "                                nobs_2: int = 10_000):\n",
    "    \n",
    "    es_import = effectsize_smd(mean_1, std_1, nobs_1, mean_2, std_2, nobs_2)[0]\n",
    "    \n",
    "    return es_import "
   ]
  },
  {
   "cell_type": "code",
   "execution_count": 4,
   "id": "7f43f140",
   "metadata": {},
   "outputs": [],
   "source": [
    "#Расчёт минимально необходимой выборки * 2(для теста и контроля) для пропорций\n",
    "def calc_sample_size_proportion(effect_size: float,\n",
    "                                alpha: float = .05,\n",
    "                                beta: float = .2,\n",
    "                                ratio: Union[float, int] = 1):\n",
    "    \n",
    "    n = zt_ind_solve_power(effect_size=effect_size,\n",
    "                           alpha=alpha,\n",
    "                           power=(1 - beta),\n",
    "                           ratio=ratio,\n",
    "                  )\n",
    "    return int(n * 2)\n",
    "#Расчёт минимально необходимой выборки * 2(для теста и контроля) для непрерывной метрики\n",
    "def calc_sample_size_continuous(effect_size: float,\n",
    "                                alpha: float = .05,\n",
    "                                beta: float = .2,\n",
    "                                ratio: Union[float, int] = 1):\n",
    "    \n",
    "    n = tt_ind_solve_power(effect_size=effect_size,\n",
    "                           alpha=alpha,\n",
    "                           power=(1 - beta),\n",
    "                           ratio=ratio,\n",
    "                  )\n",
    "    return int(n * 2)"
   ]
  },
  {
   "cell_type": "markdown",
   "id": "f9a03b6d",
   "metadata": {},
   "source": [
    "# Задание №1"
   ]
  },
  {
   "cell_type": "markdown",
   "id": "bd9a9547",
   "metadata": {},
   "source": [
    "#### Продакт на главной mail.ru решил протестировать в рекомендательной ленте контента вместо карточек со статьями видеоплеер с короткими видео. Нынешний таймспент на юзера в день в среднем равен 25 минут, а стандартная ошибка (SD) равна 156. Мы предполагаем, что в новой версии таймспент на юзера в день изменится на 10%. Средний трафик 20000 человек в день. Посчитайте сколько дней необходимо держать эксперимент при alpha = 5% и beta = 20%"
   ]
  },
  {
   "cell_type": "code",
   "execution_count": 5,
   "id": "8b86656c",
   "metadata": {},
   "outputs": [
    {
     "data": {
      "text/plain": [
       "-0.016025039996486808"
      ]
     },
     "execution_count": 5,
     "metadata": {},
     "output_type": "execute_result"
    }
   ],
   "source": [
    "mu_control, mu_test = 25, 25*1.1\n",
    "std_control, std_test = 156, 156\n",
    "\n",
    "calc_continuous_effect_size(mean_1=mu_control, std_1=std_control, mean_2=mu_test, std_2=std_test)"
   ]
  },
  {
   "cell_type": "code",
   "execution_count": 6,
   "id": "7bff6267",
   "metadata": {},
   "outputs": [
    {
     "data": {
      "text/plain": [
       "122257"
      ]
     },
     "execution_count": 6,
     "metadata": {},
     "output_type": "execute_result"
    }
   ],
   "source": [
    "effect_size = calc_continuous_effect_size(mean_1=mu_control, std_1=std_control, mean_2=mu_test, std_2=std_test)\n",
    "group=calc_sample_size_continuous(effect_size=effect_size, alpha=.05, beta=.2)\n",
    "group"
   ]
  },
  {
   "cell_type": "markdown",
   "id": "37c0dd80",
   "metadata": {},
   "source": [
    "#### Количество необходимых дней для эксперимента"
   ]
  },
  {
   "cell_type": "code",
   "execution_count": 7,
   "id": "60cdcc13",
   "metadata": {},
   "outputs": [
    {
     "data": {
      "text/plain": [
       "6.11285"
      ]
     },
     "execution_count": 7,
     "metadata": {},
     "output_type": "execute_result"
    }
   ],
   "source": [
    "group/20000"
   ]
  },
  {
   "cell_type": "markdown",
   "id": "ab97a42a",
   "metadata": {},
   "source": [
    "#### 7 дней"
   ]
  },
  {
   "cell_type": "markdown",
   "id": "2f37764e",
   "metadata": {},
   "source": [
    "# Задание №2"
   ]
  },
  {
   "cell_type": "markdown",
   "id": "25765590",
   "metadata": {},
   "source": [
    "#### Наша продуктовая команда в ecommerce магазине планирует запустить тест, направленный на ускорение загрузки сайта. Одна из основных метрик bounce rate в GA = 40%. Мы предполагаем, что при оптимизации сайта она изменится минимум на 20%.Средний трафик 4000 человек в день. Посчитайте сколько нам нужно дней держать эксперимент при alpha = 5% и beta = 20%"
   ]
  },
  {
   "cell_type": "code",
   "execution_count": 41,
   "id": "8848fb0f",
   "metadata": {},
   "outputs": [
    {
     "name": "stdout",
     "output_type": "stream",
     "text": [
      "0.06756756756756757 0.05405405405405406\n"
     ]
    },
    {
     "data": {
      "text/plain": [
       "0.05663024817640083"
      ]
     },
     "execution_count": 41,
     "metadata": {},
     "output_type": "execute_result"
    }
   ],
   "source": [
    "conv_1, conv_2 = 40, 32\n",
    "nobs_1, nobs_2 = 592, 592\n",
    "prob_1, prob_2 = conv_1 / nobs_1, conv_2 / nobs_2\n",
    "print(prob_1, prob_2)\n",
    "calc_propotion_effect_size(conv_1=conv_1, nobs_1=nobs_1, conv_2=conv_2, nobs_2=nobs_2)"
   ]
  },
  {
   "cell_type": "code",
   "execution_count": 42,
   "id": "b7ad1864",
   "metadata": {},
   "outputs": [
    {
     "data": {
      "text/plain": [
       "9789"
      ]
     },
     "execution_count": 42,
     "metadata": {},
     "output_type": "execute_result"
    }
   ],
   "source": [
    "effect_size = calc_propotion_effect_size(conv_1=conv_1, nobs_1=nobs_1, conv_2=conv_2, nobs_2=nobs_2)\n",
    "group=calc_sample_size_proportion(effect_size=effect_size, alpha=.05, beta=.2)\n",
    "group"
   ]
  },
  {
   "cell_type": "markdown",
   "id": "3be89536",
   "metadata": {},
   "source": [
    "#### Количество необходимых дней для эксперимента"
   ]
  },
  {
   "cell_type": "code",
   "execution_count": 43,
   "id": "0cc1ff65",
   "metadata": {},
   "outputs": [
    {
     "data": {
      "text/plain": [
       "2.44725"
      ]
     },
     "execution_count": 43,
     "metadata": {},
     "output_type": "execute_result"
    }
   ],
   "source": [
    "group/4000"
   ]
  },
  {
   "cell_type": "markdown",
   "id": "413ba4ea",
   "metadata": {},
   "source": [
    "#### 3 дня"
   ]
  },
  {
   "cell_type": "code",
   "execution_count": null,
   "id": "e97d6545",
   "metadata": {},
   "outputs": [],
   "source": []
  }
 ],
 "metadata": {
  "kernelspec": {
   "display_name": "Python 3 (ipykernel)",
   "language": "python",
   "name": "python3"
  },
  "language_info": {
   "codemirror_mode": {
    "name": "ipython",
    "version": 3
   },
   "file_extension": ".py",
   "mimetype": "text/x-python",
   "name": "python",
   "nbconvert_exporter": "python",
   "pygments_lexer": "ipython3",
   "version": "3.9.13"
  }
 },
 "nbformat": 4,
 "nbformat_minor": 5
}
